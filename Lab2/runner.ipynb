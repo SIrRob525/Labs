{
 "cells": [
  {
   "cell_type": "code",
   "execution_count": 1,
   "metadata": {},
   "outputs": [],
   "source": [
    "import lxml.etree as ET"
   ]
  },
  {
   "cell_type": "markdown",
   "metadata": {},
   "source": [
    "# XSLT"
   ]
  },
  {
   "cell_type": "code",
   "execution_count": 2,
   "metadata": {},
   "outputs": [],
   "source": [
    "xmlfile = ET.parse(r\"timetable.xml\")\n",
    "xslt_to_text = ET.parse(r\"totext.xslt\")\n",
    "xslt_to_html = ET.parse(r\"tohtml.xslt\")\n",
    "    "
   ]
  },
  {
   "cell_type": "code",
   "execution_count": 3,
   "metadata": {},
   "outputs": [],
   "source": [
    "transform1 = ET.XSLT(xslt_to_text)\n",
    "output = transform1(xmlfile)\n",
    "with open(\"output_text.txt\", \"w\", encoding=\"UTF-8\") as f:\n",
    "\tf.write(str(output))"
   ]
  },
  {
   "cell_type": "code",
   "execution_count": 4,
   "metadata": {},
   "outputs": [],
   "source": [
    "transform2 = ET.XSLT(xslt_to_html)\n",
    "output = transform2(xmlfile)\n",
    "with open(\"output_html.html\", \"w\", encoding=\"UTF-8\") as f:\n",
    "\tf.write(str(output))"
   ]
  },
  {
   "cell_type": "markdown",
   "metadata": {},
   "source": [
    "# XPath "
   ]
  },
  {
   "cell_type": "markdown",
   "metadata": {},
   "source": [
    "Результаты запросов изменились, так как мы убрали повторяющиеся пары."
   ]
  },
  {
   "cell_type": "code",
   "execution_count": 5,
   "metadata": {},
   "outputs": [
    {
     "name": "stdout",
     "output_type": "stream",
     "text": [
      "<session xmlns:xsi=\"http://www.w3.org/2001/XMLSchema-instance\" day=\"mon\">\n",
      "        <subject>&#1052;&#1080;&#1082;&#1088;&#1086;&#1101;&#1082;&#1086;&#1085;&#1086;&#1084;&#1080;&#1082;&#1072;-2</subject>\n",
      "        <classroom>341</classroom>\n",
      "        <instructor>&#1040;. &#1050;&#1072;&#1083;&#1100;&#1095;&#1077;&#1074;&#1089;&#1082;&#1080;&#1081;</instructor>\n",
      "        <start>12:30:00</start>\n",
      "        <end>13:50:00</end>\n",
      "        <type>seminar</type>\n",
      "    </session>\n",
      "\n",
      "    \n",
      "<session xmlns:xsi=\"http://www.w3.org/2001/XMLSchema-instance\" day=\"tue\">\n",
      "        <subject>&#1052;&#1072;&#1082;&#1088;&#1086;&#1101;&#1082;&#1086;&#1085;&#1086;&#1084;&#1080;&#1082;&#1072;-1</subject>\n",
      "        <classroom>R503</classroom>\n",
      "        <instructor>&#1042;. &#1063;&#1077;&#1088;&#1085;&#1086;&#1086;&#1082;&#1080;&#1081;</instructor>\n",
      "        <start>13:00:00</start>\n",
      "        <end>14:20:00</end>\n",
      "        <type>lecture</type>\n",
      "    </session>\n",
      "\n",
      "    \n",
      "<session xmlns:xsi=\"http://www.w3.org/2001/XMLSchema-instance\" day=\"tue\">\n",
      "        <subject>&#1052;&#1072;&#1096;&#1080;&#1085;&#1085;&#1086;&#1077; &#1086;&#1073;&#1091;&#1095;&#1077;&#1085;&#1080;&#1077;</subject>\n",
      "        <classroom>R205</classroom>\n",
      "        <instructor>&#1052;. &#1043;&#1091;&#1097;&#1080;&#1085;</instructor>\n",
      "        <start>16:20:00</start>\n",
      "        <end>17:40:00</end>\n",
      "        <type>lecture</type>\n",
      "    </session>\n",
      "\n",
      "    \n",
      "<session xmlns:xsi=\"http://www.w3.org/2001/XMLSchema-instance\" day=\"wed\">\n",
      "        <subject>&#1052;&#1072;&#1090;&#1077;&#1084;&#1072;&#1090;&#1080;&#1095;&#1077;&#1089;&#1082;&#1080;&#1081; &#1072;&#1085;&#1072;&#1083;&#1080;&#1079;-2</subject>\n",
      "        <classroom>R503</classroom>\n",
      "        <instructor>&#1057;. &#1064;&#1072;&#1087;&#1086;&#1096;&#1085;&#1080;&#1082;&#1086;&#1074;</instructor>\n",
      "        <start>09:30:00</start>\n",
      "        <end>10:50:00</end>\n",
      "        <type>lecture</type>\n",
      "    </session>\n",
      "\n",
      "    \n",
      "<session xmlns:xsi=\"http://www.w3.org/2001/XMLSchema-instance\" day=\"wed\">\n",
      "        <subject>&#1052;&#1072;&#1090;&#1077;&#1084;&#1072;&#1090;&#1080;&#1095;&#1077;&#1089;&#1082;&#1080;&#1081; &#1072;&#1085;&#1072;&#1083;&#1080;&#1079;-2</subject>\n",
      "        <classroom>G119</classroom>\n",
      "        <instructor>&#1058;. &#1050;&#1088;&#1072;&#1089;&#1086;&#1074;&#1080;&#1094;&#1082;&#1080;&#1081;</instructor>\n",
      "        <start>13:00:00</start>\n",
      "        <end>14:20:00</end>\n",
      "        <type>seminar</type>\n",
      "    </session>\n",
      "\n",
      "    \n",
      "<session xmlns:xsi=\"http://www.w3.org/2001/XMLSchema-instance\" day=\"wed\">\n",
      "        <subject>&#1052;&#1072;&#1082;&#1088;&#1086;&#1101;&#1082;&#1086;&#1085;&#1086;&#1084;&#1080;&#1082;&#1072;-1</subject>\n",
      "        <classroom>R504</classroom>\n",
      "        <instructor>&#1042;. &#1063;&#1077;&#1088;&#1085;&#1086;&#1086;&#1082;&#1080;&#1081;</instructor>\n",
      "        <start>11:10:00</start>\n",
      "        <end>12:30:00</end>\n",
      "        <type>lecture</type>\n",
      "    </session>\n",
      "\n",
      "    \n",
      "<session xmlns:xsi=\"http://www.w3.org/2001/XMLSchema-instance\" day=\"wed\">\n",
      "        <subject>&#1052;&#1072;&#1096;&#1080;&#1085;&#1085;&#1086;&#1077; &#1086;&#1073;&#1091;&#1095;&#1077;&#1085;&#1080;&#1077;</subject>\n",
      "        <classroom>R506</classroom>\n",
      "        <instructor>&#1042;. &#1041;&#1086;&#1095;&#1072;&#1088;&#1085;&#1080;&#1082;&#1086;&#1074;</instructor>\n",
      "        <start>14:40:00</start>\n",
      "        <end>16:00:00</end>\n",
      "        <type>lecture</type>\n",
      "    </session>\n",
      "\n",
      "    \n",
      "<session xmlns:xsi=\"http://www.w3.org/2001/XMLSchema-instance\" day=\"fri\">\n",
      "        <subject>&#1052;&#1072;&#1090;&#1077;&#1084;&#1072;&#1090;&#1080;&#1095;&#1077;&#1089;&#1082;&#1080;&#1081; &#1072;&#1085;&#1072;&#1083;&#1080;&#1079;-2</subject>\n",
      "        <classroom>R503</classroom>\n",
      "        <instructor>&#1057;. &#1064;&#1072;&#1087;&#1086;&#1096;&#1085;&#1080;&#1082;&#1086;&#1074;</instructor>\n",
      "        <start>09:30:00</start>\n",
      "        <end>10:50:00</end>\n",
      "        <type>lecture</type>\n",
      "    </session>\n",
      "\n",
      "    \n",
      "<session xmlns:xsi=\"http://www.w3.org/2001/XMLSchema-instance\" day=\"fri\">\n",
      "        <subject>&#1052;&#1080;&#1082;&#1088;&#1086;&#1101;&#1082;&#1086;&#1085;&#1086;&#1084;&#1080;&#1082;&#1072;-2</subject>\n",
      "        <classroom>R504</classroom>\n",
      "        <instructor>&#1054;. &#1041;&#1072;&#1088;&#1072;&#1085;&#1086;&#1074;</instructor>\n",
      "        <start>11:10:00</start>\n",
      "        <end>12:30:00</end>\n",
      "        <type>lecture</type>\n",
      "    </session>\n",
      "\n",
      "    \n",
      "<session xmlns:xsi=\"http://www.w3.org/2001/XMLSchema-instance\" day=\"fri\">\n",
      "        <subject>&#1058;&#1077;&#1093;&#1085;&#1086;&#1083;&#1086;&#1075;&#1080;&#1080; &#1072;&#1085;&#1072;&#1083;&#1080;&#1079;&#1072; &#1076;&#1072;&#1085;&#1085;&#1099;&#1093; &#1074; &#1089;&#1077;&#1090;&#1080; &#1048;&#1085;&#1090;&#1077;&#1088;&#1085;&#1077;&#1090;</subject>\n",
      "        <classroom>online</classroom>\n",
      "        <instructor>&#1042;. &#1051;&#1072;&#1085;&#1080;&#1085;</instructor>\n",
      "        <start>13:00:00</start>\n",
      "        <end>14:20:00</end>\n",
      "        <type>lecture</type>\n",
      "    </session>\n",
      "    \n",
      "    \n",
      "<session xmlns:xsi=\"http://www.w3.org/2001/XMLSchema-instance\" day=\"fri\">\n",
      "        <subject>&#1058;&#1077;&#1093;&#1085;&#1086;&#1083;&#1086;&#1075;&#1080;&#1080; &#1072;&#1085;&#1072;&#1083;&#1080;&#1079;&#1072; &#1076;&#1072;&#1085;&#1085;&#1099;&#1093; &#1074; &#1089;&#1077;&#1090;&#1080; &#1048;&#1085;&#1090;&#1077;&#1088;&#1085;&#1077;&#1090;</subject>\n",
      "        <classroom>online</classroom>\n",
      "        <instructor>&#1042;. &#1051;&#1072;&#1085;&#1080;&#1085;</instructor>\n",
      "        <start>14:40:00</start>\n",
      "        <end>16:00:00</end>\n",
      "        <type>seminar</type>\n",
      "    </session>\n",
      "    \n",
      "    \n",
      "<session xmlns:xsi=\"http://www.w3.org/2001/XMLSchema-instance\" day=\"fri\">\n",
      "        <subject>&#1052;&#1080;&#1082;&#1088;&#1086;&#1101;&#1082;&#1086;&#1085;&#1086;&#1084;&#1080;&#1082;&#1072;-2</subject>\n",
      "        <classroom>S224</classroom>\n",
      "        <instructor>&#1040;. &#1050;&#1072;&#1083;&#1100;&#1095;&#1077;&#1074;&#1089;&#1082;&#1080;&#1081;</instructor>\n",
      "        <start>16:20:00</start>\n",
      "        <end>17:40:00</end>\n",
      "        <type>seminar</type>\n",
      "    </session>\n",
      "\n",
      "    \n",
      "<session xmlns:xsi=\"http://www.w3.org/2001/XMLSchema-instance\" day=\"sat\">\n",
      "        <subject>&#1052;&#1072;&#1096;&#1080;&#1085;&#1085;&#1086;&#1077; &#1086;&#1073;&#1091;&#1095;&#1077;&#1085;&#1080;&#1077;</subject>\n",
      "        <classroom>R307</classroom>\n",
      "        <instructor>&#1057;. &#1050;&#1086;&#1088;&#1087;&#1072;&#1095;&#1077;&#1074;</instructor>\n",
      "        <start>14:40:00</start>\n",
      "        <end>16:00:00</end>\n",
      "        <type>seminar</type>\n",
      "    </session>\n",
      "\n",
      "\n"
     ]
    }
   ],
   "source": [
    "path1 = xmlfile.xpath(\"//session\")\n",
    "for el in path1:\n",
    "    print(ET.tostring(el).decode())"
   ]
  },
  {
   "cell_type": "code",
   "execution_count": 6,
   "metadata": {},
   "outputs": [
    {
     "name": "stdout",
     "output_type": "stream",
     "text": [
      "341\n",
      "R503\n",
      "R205\n",
      "G119\n",
      "R504\n",
      "R506\n",
      "online\n",
      "S224\n",
      "R307\n"
     ]
    }
   ],
   "source": [
    "path2 = xmlfile.xpath(\"/timetable/session[not(classroom=\\\n",
    "                      preceding-sibling::session/classroom)]/classroom\")\n",
    "for el in path2:\n",
    "    print(el.text)"
   ]
  },
  {
   "cell_type": "code",
   "execution_count": 7,
   "metadata": {},
   "outputs": [
    {
     "name": "stdout",
     "output_type": "stream",
     "text": [
      "<session xmlns:xsi=\"http://www.w3.org/2001/XMLSchema-instance\" day=\"mon\">\n",
      "        <subject>&#1052;&#1080;&#1082;&#1088;&#1086;&#1101;&#1082;&#1086;&#1085;&#1086;&#1084;&#1080;&#1082;&#1072;-2</subject>\n",
      "        <classroom>341</classroom>\n",
      "        <instructor>&#1040;. &#1050;&#1072;&#1083;&#1100;&#1095;&#1077;&#1074;&#1089;&#1082;&#1080;&#1081;</instructor>\n",
      "        <start>12:30:00</start>\n",
      "        <end>13:50:00</end>\n",
      "        <type>seminar</type>\n",
      "    </session>\n",
      "\n",
      "    \n",
      "<session xmlns:xsi=\"http://www.w3.org/2001/XMLSchema-instance\" day=\"wed\">\n",
      "        <subject>&#1052;&#1072;&#1090;&#1077;&#1084;&#1072;&#1090;&#1080;&#1095;&#1077;&#1089;&#1082;&#1080;&#1081; &#1072;&#1085;&#1072;&#1083;&#1080;&#1079;-2</subject>\n",
      "        <classroom>G119</classroom>\n",
      "        <instructor>&#1058;. &#1050;&#1088;&#1072;&#1089;&#1086;&#1074;&#1080;&#1094;&#1082;&#1080;&#1081;</instructor>\n",
      "        <start>13:00:00</start>\n",
      "        <end>14:20:00</end>\n",
      "        <type>seminar</type>\n",
      "    </session>\n",
      "\n",
      "    \n",
      "<session xmlns:xsi=\"http://www.w3.org/2001/XMLSchema-instance\" day=\"fri\">\n",
      "        <subject>&#1058;&#1077;&#1093;&#1085;&#1086;&#1083;&#1086;&#1075;&#1080;&#1080; &#1072;&#1085;&#1072;&#1083;&#1080;&#1079;&#1072; &#1076;&#1072;&#1085;&#1085;&#1099;&#1093; &#1074; &#1089;&#1077;&#1090;&#1080; &#1048;&#1085;&#1090;&#1077;&#1088;&#1085;&#1077;&#1090;</subject>\n",
      "        <classroom>online</classroom>\n",
      "        <instructor>&#1042;. &#1051;&#1072;&#1085;&#1080;&#1085;</instructor>\n",
      "        <start>14:40:00</start>\n",
      "        <end>16:00:00</end>\n",
      "        <type>seminar</type>\n",
      "    </session>\n",
      "    \n",
      "    \n",
      "<session xmlns:xsi=\"http://www.w3.org/2001/XMLSchema-instance\" day=\"fri\">\n",
      "        <subject>&#1052;&#1080;&#1082;&#1088;&#1086;&#1101;&#1082;&#1086;&#1085;&#1086;&#1084;&#1080;&#1082;&#1072;-2</subject>\n",
      "        <classroom>S224</classroom>\n",
      "        <instructor>&#1040;. &#1050;&#1072;&#1083;&#1100;&#1095;&#1077;&#1074;&#1089;&#1082;&#1080;&#1081;</instructor>\n",
      "        <start>16:20:00</start>\n",
      "        <end>17:40:00</end>\n",
      "        <type>seminar</type>\n",
      "    </session>\n",
      "\n",
      "    \n",
      "<session xmlns:xsi=\"http://www.w3.org/2001/XMLSchema-instance\" day=\"sat\">\n",
      "        <subject>&#1052;&#1072;&#1096;&#1080;&#1085;&#1085;&#1086;&#1077; &#1086;&#1073;&#1091;&#1095;&#1077;&#1085;&#1080;&#1077;</subject>\n",
      "        <classroom>R307</classroom>\n",
      "        <instructor>&#1057;. &#1050;&#1086;&#1088;&#1087;&#1072;&#1095;&#1077;&#1074;</instructor>\n",
      "        <start>14:40:00</start>\n",
      "        <end>16:00:00</end>\n",
      "        <type>seminar</type>\n",
      "    </session>\n",
      "\n",
      "\n"
     ]
    }
   ],
   "source": [
    "path3 = xmlfile.xpath(\"//session[type='seminar']\")\n",
    "for el in path3:\n",
    "    print(ET.tostring(el).decode())"
   ]
  },
  {
   "cell_type": "code",
   "execution_count": 8,
   "metadata": {},
   "outputs": [
    {
     "name": "stdout",
     "output_type": "stream",
     "text": [
      "<session xmlns:xsi=\"http://www.w3.org/2001/XMLSchema-instance\" day=\"wed\">\n",
      "        <subject>&#1052;&#1072;&#1082;&#1088;&#1086;&#1101;&#1082;&#1086;&#1085;&#1086;&#1084;&#1080;&#1082;&#1072;-1</subject>\n",
      "        <classroom>R504</classroom>\n",
      "        <instructor>&#1042;. &#1063;&#1077;&#1088;&#1085;&#1086;&#1086;&#1082;&#1080;&#1081;</instructor>\n",
      "        <start>11:10:00</start>\n",
      "        <end>12:30:00</end>\n",
      "        <type>lecture</type>\n",
      "    </session>\n",
      "\n",
      "    \n",
      "<session xmlns:xsi=\"http://www.w3.org/2001/XMLSchema-instance\" day=\"fri\">\n",
      "        <subject>&#1052;&#1080;&#1082;&#1088;&#1086;&#1101;&#1082;&#1086;&#1085;&#1086;&#1084;&#1080;&#1082;&#1072;-2</subject>\n",
      "        <classroom>R504</classroom>\n",
      "        <instructor>&#1054;. &#1041;&#1072;&#1088;&#1072;&#1085;&#1086;&#1074;</instructor>\n",
      "        <start>11:10:00</start>\n",
      "        <end>12:30:00</end>\n",
      "        <type>lecture</type>\n",
      "    </session>\n",
      "\n",
      "    \n"
     ]
    }
   ],
   "source": [
    "path4 = xmlfile.xpath(\"//session[type='lecture' and classroom='R504']\")\n",
    "for el in path4:\n",
    "    print(ET.tostring(el).decode())"
   ]
  },
  {
   "cell_type": "code",
   "execution_count": 9,
   "metadata": {},
   "outputs": [
    {
     "name": "stdout",
     "output_type": "stream",
     "text": [
      "А. Кальчевский\n"
     ]
    }
   ],
   "source": [
    "path5 = xmlfile.xpath('//session[type=\"seminar\" and classroom=\"S224\" and \\\n",
    "                      not(instructor=preceding-sibling::session[type=\"seminar\" and \\\n",
    "                      classroom=\"S224\"]/instructor)]/instructor')\n",
    "for el in path5:\n",
    "    print(el.text)"
   ]
  },
  {
   "cell_type": "code",
   "execution_count": 10,
   "metadata": {},
   "outputs": [
    {
     "name": "stdout",
     "output_type": "stream",
     "text": [
      "13.0\n"
     ]
    }
   ],
   "source": [
    "path7 = xmlfile.xpath('count(//session)')\n",
    "print(path7)"
   ]
  },
  {
   "cell_type": "markdown",
   "metadata": {},
   "source": [
    "# JSON"
   ]
  },
  {
   "cell_type": "code",
   "execution_count": 11,
   "metadata": {},
   "outputs": [],
   "source": [
    "import json\n",
    "\n",
    "import jsonpath_ng.ext\n",
    "from jsonpath_ng import jsonpath, parse"
   ]
  },
  {
   "cell_type": "code",
   "execution_count": 12,
   "metadata": {},
   "outputs": [
    {
     "name": "stdout",
     "output_type": "stream",
     "text": [
      "{'day': 'mon', 'subject': 'Микроэкономика-2', 'classroom': 341, 'instructor': 'А. Кальчевский', 'start': '12:30:00', 'end': '13:50:00', 'type': 'seminar'}\n",
      "{'day': 'tue', 'subject': 'Макроэкономика-1', 'classroom': 'R503', 'instructor': 'В. Черноокий', 'start': '13:00:00', 'end': '14:20:00', 'type': 'lecture'}\n",
      "{'day': 'tue', 'subject': 'Машинное обучение', 'classroom': 'R205', 'instructor': 'М. Гущин', 'start': '16:20:00', 'end': '17:40:00', 'type': 'lecture'}\n",
      "{'day': 'wed', 'subject': 'Математический анализ-2', 'classroom': 'R503', 'instructor': 'С. Шапошников', 'start': '09:30:00', 'end': '10:50:00', 'type': 'lecture'}\n",
      "{'day': 'wed', 'subject': 'Математический анализ-2', 'classroom': 'G119', 'instructor': 'Т. Красовицкий', 'start': '13:00:00', 'end': '14:20:00', 'type': 'seminar'}\n",
      "{'day': 'wed', 'subject': 'Макроэкономика-1', 'classroom': 'R504', 'instructor': 'В. Черноокий', 'start': '11:10:00', 'end': '12:30:00', 'type': 'lecture'}\n",
      "{'day': 'wed', 'subject': 'Машинное обучение', 'classroom': 'R506', 'instructor': 'В. Бочарников', 'start': '14:40:00', 'end': '16:00:00', 'type': 'lecture'}\n",
      "{'day': 'fri', 'subject': 'Математический анализ-2', 'classroom': 'R503', 'instructor': 'С. Шапошников', 'start': '09:30:00', 'end': '10:50:00', 'type': 'lecture'}\n",
      "{'day': 'fri', 'subject': 'Микроэкономика-2', 'classroom': 'R504', 'instructor': 'О. Баранов', 'start': '11:10:00', 'end': '12:30:00', 'type': 'lecture'}\n",
      "{'day': 'fri', 'subject': 'Технологии анализа данных в сети Интернет', 'classroom': 'online', 'instructor': 'В. Ланин', 'start': '13:00:00', 'end': '14:20:00', 'type': 'lecture'}\n",
      "{'day': 'fri', 'subject': 'Технологии анализа данных в сети Интернет', 'classroom': 'online', 'instructor': 'В. Ланин', 'start': '14:40:00', 'end': '16:00:00', 'type': 'seminar'}\n",
      "{'day': 'fri', 'subject': 'Микроэкономика-2', 'classroom': 'S224', 'instructor': 'А. Кальчевский', 'start': '16:20:00', 'end': '17:40:00', 'type': 'seminar'}\n",
      "{'day': 'sat', 'subject': 'Машинное обучение', 'classroom': 'R307', 'instructor': 'С. Корпачев', 'start': '14:40:00', 'end': '16:00:00', 'type': 'seminar'}\n"
     ]
    }
   ],
   "source": [
    "with open(r\"timetable.json\", \"r\", encoding=\"UTF-8\") as f:\n",
    "    jsonfile = json.loads(f.read())\n",
    "\n",
    "path1 = parse(\"$.timetable.sessions\")\n",
    "match = path1.find(jsonfile)\n",
    "for el in match[0].value:\n",
    "    print(el)"
   ]
  },
  {
   "cell_type": "code",
   "execution_count": 13,
   "metadata": {},
   "outputs": [
    {
     "name": "stdout",
     "output_type": "stream",
     "text": [
      "341\n",
      "R503\n",
      "R205\n",
      "R503\n",
      "G119\n",
      "R504\n",
      "R506\n",
      "R503\n",
      "R504\n",
      "online\n",
      "online\n",
      "S224\n",
      "R307\n"
     ]
    }
   ],
   "source": [
    "path2 = parse(\"$.timetable.sessions[*].classroom\")\n",
    "match = path2.find(jsonfile)\n",
    "for el in match:\n",
    "    print(el.value)"
   ]
  },
  {
   "cell_type": "code",
   "execution_count": 14,
   "metadata": {},
   "outputs": [
    {
     "name": "stdout",
     "output_type": "stream",
     "text": [
      "{'day': 'mon', 'subject': 'Микроэкономика-2', 'classroom': 341, 'instructor': 'А. Кальчевский', 'start': '12:30:00', 'end': '13:50:00', 'type': 'seminar'}\n",
      "{'day': 'wed', 'subject': 'Математический анализ-2', 'classroom': 'G119', 'instructor': 'Т. Красовицкий', 'start': '13:00:00', 'end': '14:20:00', 'type': 'seminar'}\n",
      "{'day': 'fri', 'subject': 'Технологии анализа данных в сети Интернет', 'classroom': 'online', 'instructor': 'В. Ланин', 'start': '14:40:00', 'end': '16:00:00', 'type': 'seminar'}\n",
      "{'day': 'fri', 'subject': 'Микроэкономика-2', 'classroom': 'S224', 'instructor': 'А. Кальчевский', 'start': '16:20:00', 'end': '17:40:00', 'type': 'seminar'}\n",
      "{'day': 'sat', 'subject': 'Машинное обучение', 'classroom': 'R307', 'instructor': 'С. Корпачев', 'start': '14:40:00', 'end': '16:00:00', 'type': 'seminar'}\n"
     ]
    }
   ],
   "source": [
    "path3 = jsonpath_ng.ext.parse('$.timetable.sessions[?(@.type==\"seminar\")]')\n",
    "match = path3.find(jsonfile)\n",
    "for el in match:\n",
    "    print(el.value)"
   ]
  },
  {
   "cell_type": "code",
   "execution_count": 15,
   "metadata": {},
   "outputs": [
    {
     "name": "stdout",
     "output_type": "stream",
     "text": [
      "{'day': 'wed', 'subject': 'Макроэкономика-1', 'classroom': 'R504', 'instructor': 'В. Черноокий', 'start': '11:10:00', 'end': '12:30:00', 'type': 'lecture'}\n",
      "{'day': 'fri', 'subject': 'Микроэкономика-2', 'classroom': 'R504', 'instructor': 'О. Баранов', 'start': '11:10:00', 'end': '12:30:00', 'type': 'lecture'}\n"
     ]
    }
   ],
   "source": [
    "path4 = jsonpath_ng.ext.parse('$.timetable.sessions[?(@.type==\"lecture\" & @.classroom==\"R504\")]')\n",
    "match = path4.find(jsonfile)\n",
    "for el in match:\n",
    "    print(el.value)"
   ]
  },
  {
   "cell_type": "code",
   "execution_count": 16,
   "metadata": {},
   "outputs": [
    {
     "name": "stdout",
     "output_type": "stream",
     "text": [
      "А. Кальчевский\n"
     ]
    }
   ],
   "source": [
    "path5 = jsonpath_ng.ext.parse('$.timetable.sessions[?(@.type==\"seminar\" & @.classroom==\"S224\")].instructor')\n",
    "match = path5.find(jsonfile)\n",
    "for el in match:\n",
    "    print(el.value)"
   ]
  },
  {
   "cell_type": "code",
   "execution_count": 17,
   "metadata": {},
   "outputs": [
    {
     "name": "stdout",
     "output_type": "stream",
     "text": [
      "{'day': 'fri', 'subject': 'Микроэкономика-2', 'classroom': 'S224', 'instructor': 'А. Кальчевский', 'start': '16:20:00', 'end': '17:40:00', 'type': 'seminar'}\n",
      "13\n"
     ]
    }
   ],
   "source": [
    "path6 = jsonpath_ng.ext.parse('$.timetable.sessions')\n",
    "match = path6.find(jsonfile)\n",
    "\n",
    "print(max([el for el in match[0].value if el[\"day\"] == \"fri\"], key=lambda el: el[\"start\"])) #6 запрос\n",
    "print(len(match[0].value)) #7 запрос"
   ]
  },
  {
   "cell_type": "code",
   "execution_count": 34,
   "metadata": {},
   "outputs": [],
   "source": [
    "import dicttoxml\n",
    "\n",
    "with open(\"timetable_fromjson.xml\", \"w\", encoding=\"UTF-8\") as f:\n",
    "\tf.write(dicttoxml.dicttoxml(jsonfile, attr_type=False).decode(\"UTF-8\"))\n",
    "\n",
    "xmlfile_fromjson = ET.parse(\"timetable_fromjson.xml\")\n",
    "\n",
    "xslt_to_text = ET.parse(r\"totext_jsonmod.xslt\")\n",
    "xslt_to_html = ET.parse(r\"tohtml_jsonmod.xslt\")\n",
    "\n",
    "transform1 = ET.XSLT(xslt_to_text)\n",
    "output = transform1(xmlfile_fromjson)\n",
    "with open(\"output_text2.txt\", \"w\", encoding=\"UTF-8\") as f:\n",
    "\tf.write(str(output))\n",
    "\n",
    "transform2 = ET.XSLT(xslt_to_html)\n",
    "output = transform2(xmlfile_fromjson)\n",
    "with open(\"output_html2.html\", \"w\", encoding=\"UTF-8\") as f:\n",
    "\tf.write(str(output))"
   ]
  },
  {
   "cell_type": "code",
   "execution_count": null,
   "metadata": {},
   "outputs": [],
   "source": []
  }
 ],
 "metadata": {
  "kernelspec": {
   "display_name": "Python 3",
   "language": "python",
   "name": "python3"
  },
  "language_info": {
   "codemirror_mode": {
    "name": "ipython",
    "version": 3
   },
   "file_extension": ".py",
   "mimetype": "text/x-python",
   "name": "python",
   "nbconvert_exporter": "python",
   "pygments_lexer": "ipython3",
   "version": "3.10.11"
  }
 },
 "nbformat": 4,
 "nbformat_minor": 2
}
