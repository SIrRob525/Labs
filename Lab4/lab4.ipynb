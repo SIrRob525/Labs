{
 "cells": [
  {
   "cell_type": "markdown",
   "metadata": {},
   "source": [
    "# Лабораторная работа 4"
   ]
  },
  {
   "cell_type": "markdown",
   "metadata": {},
   "source": [
    "#### Оценка тональности рецензий"
   ]
  },
  {
   "cell_type": "markdown",
   "metadata": {},
   "source": [
    "## Часть 1. Скраппинг данных"
   ]
  },
  {
   "cell_type": "markdown",
   "metadata": {},
   "source": [
    "Будем доставать отзывы с Кинопоиска. Для анализа были выбраны фильмы, у которых достаточно и хороших, и плохих отзывов: \"Ла-ла-ленд\" (2016), \"Елки\" (2010), \"Миллионер из трущоб (2008)\" (2023), \"Бесславные ублюдки\" (2009) и \"Оно\" (2017). Запиешм их ID в список"
   ]
  },
  {
   "cell_type": "code",
   "execution_count": 10,
   "metadata": {},
   "outputs": [],
   "source": [
    "ids = [841081, 493768, 413362, 9691, 453397]"
   ]
  },
  {
   "cell_type": "markdown",
   "metadata": {},
   "source": [
    "Для парсинга будем использовать библиотеку BeautifulSoup4"
   ]
  },
  {
   "cell_type": "code",
   "execution_count": 11,
   "metadata": {},
   "outputs": [],
   "source": [
    "import requests\n",
    "from bs4 import BeautifulSoup"
   ]
  },
  {
   "cell_type": "markdown",
   "metadata": {},
   "source": [
    "Напишем функцию для записи данных в файл."
   ]
  },
  {
   "cell_type": "code",
   "execution_count": 12,
   "metadata": {},
   "outputs": [],
   "source": [
    "import numpy as np\n",
    "import pandas as pd\n",
    "from tqdm import tqdm\n",
    "from time import sleep\n",
    "import re\n",
    "import os"
   ]
  },
  {
   "cell_type": "code",
   "execution_count": 13,
   "metadata": {},
   "outputs": [],
   "source": [
    "def load_user_info(movie_ids: list[int], filename: str):\n",
    "    #checking if files do not exist or are empty \n",
    "    does_exist = (os.path.isfile(filename)) and (not os.stat(filename).st_size == 0)\n",
    "    if does_exist:\n",
    "        print(f\"File {filename} already exists.\")\n",
    "        return\n",
    "\n",
    "    #creating the list of rows for our future dataframe\n",
    "    rows = []\n",
    "    \n",
    "    for id in tqdm(movie_ids):\n",
    "        for target in ['good', 'bad']:\n",
    "            header = {\n",
    "                \"user-agent\": \"Mozilla/5.0 (Windows NT 10.0; Win64; x64) AppleWebKit/537.36 (KHTML, like Gecko) Chrome/74.0.3729.169 Safari/537.36\" ,\n",
    "                'referer':'https://www.google.com/'\n",
    "            }\n",
    "\n",
    "            is_no_error = False\n",
    "            while not is_no_error:\n",
    "                data = requests.get(f\"https://www.kinopoisk.ru/film/{id}/reviews/ord/login/status/{target}/perpage/200/\", headers=header)\n",
    "                soup = BeautifulSoup(data.text)\n",
    "                if soup.findAll(\"span\", {\"itemprop\" : \"reviewBody\"}):\n",
    "                    is_no_error = True\n",
    "\n",
    "            title_tag = soup.findAll(\"title\")[0].text\n",
    "            title = re.sub(\" — отзывы и рецензии — Кинопоиск\", \"\", title_tag)\n",
    "\n",
    "            for tag in soup.findAll(\"span\", {\"itemprop\" : \"reviewBody\"}):\n",
    "                review = tag.text\n",
    "                rows.append((title, review, target))\n",
    "\n",
    "            sleep(2)\n",
    "        \n",
    "    #creating the dataframe and dumping it to a file\n",
    "    df = pd.DataFrame.from_dict(rows, orient='columns')\n",
    "    df.to_csv(filename, index=False)\n",
    "\n",
    "    return"
   ]
  },
  {
   "cell_type": "code",
   "execution_count": 14,
   "metadata": {},
   "outputs": [
    {
     "name": "stdout",
     "output_type": "stream",
     "text": [
      "File reviews.csv already exists.\n"
     ]
    }
   ],
   "source": [
    "load_user_info(ids, \"reviews.csv\")"
   ]
  },
  {
   "cell_type": "markdown",
   "metadata": {},
   "source": [
    "Выгрузим данные обратно в датфрейм"
   ]
  },
  {
   "cell_type": "code",
   "execution_count": 15,
   "metadata": {},
   "outputs": [
    {
     "name": "stdout",
     "output_type": "stream",
     "text": [
      "(1407, 3)\n"
     ]
    },
    {
     "data": {
      "text/html": [
       "<div>\n",
       "<style scoped>\n",
       "    .dataframe tbody tr th:only-of-type {\n",
       "        vertical-align: middle;\n",
       "    }\n",
       "\n",
       "    .dataframe tbody tr th {\n",
       "        vertical-align: top;\n",
       "    }\n",
       "\n",
       "    .dataframe thead th {\n",
       "        text-align: right;\n",
       "    }\n",
       "</style>\n",
       "<table border=\"1\" class=\"dataframe\">\n",
       "  <thead>\n",
       "    <tr style=\"text-align: right;\">\n",
       "      <th></th>\n",
       "      <th>title</th>\n",
       "      <th>review</th>\n",
       "      <th>status</th>\n",
       "    </tr>\n",
       "  </thead>\n",
       "  <tbody>\n",
       "    <tr>\n",
       "      <th>809</th>\n",
       "      <td>Бесславные ублюдки (2009)</td>\n",
       "      <td>Несмотря на то, что фильм Тарантино я посмотре...</td>\n",
       "      <td>good</td>\n",
       "    </tr>\n",
       "    <tr>\n",
       "      <th>495</th>\n",
       "      <td>Ёлки (2010)</td>\n",
       "      <td>Количество восторженных откликов сразу дало по...</td>\n",
       "      <td>bad</td>\n",
       "    </tr>\n",
       "    <tr>\n",
       "      <th>486</th>\n",
       "      <td>Ёлки (2010)</td>\n",
       "      <td>Попытались снять очередную новогоднюю сказку, ...</td>\n",
       "      <td>bad</td>\n",
       "    </tr>\n",
       "    <tr>\n",
       "      <th>175</th>\n",
       "      <td>Ла-Ла Ленд (2016)</td>\n",
       "      <td>Прежде всего, Золотой глобус, который получил ...</td>\n",
       "      <td>good</td>\n",
       "    </tr>\n",
       "    <tr>\n",
       "      <th>288</th>\n",
       "      <td>Ёлки (2010)</td>\n",
       "      <td>Каждому хочется поверить в чудеса, в какую-то ...</td>\n",
       "      <td>good</td>\n",
       "    </tr>\n",
       "    <tr>\n",
       "      <th>746</th>\n",
       "      <td>Миллионер из трущоб (2008)</td>\n",
       "      <td>Любителям захватывающих фильмов и остросюжетны...</td>\n",
       "      <td>bad</td>\n",
       "    </tr>\n",
       "    <tr>\n",
       "      <th>879</th>\n",
       "      <td>Бесславные ублюдки (2009)</td>\n",
       "      <td>« - Мсье Лападит, а каким прозвищем одарили ме...</td>\n",
       "      <td>good</td>\n",
       "    </tr>\n",
       "    <tr>\n",
       "      <th>280</th>\n",
       "      <td>Ёлки (2010)</td>\n",
       "      <td>В том смысле, что хоть не Ж. Фриске, и то хлеб...</td>\n",
       "      <td>good</td>\n",
       "    </tr>\n",
       "    <tr>\n",
       "      <th>1267</th>\n",
       "      <td>Оно (2017)</td>\n",
       "      <td>В некотором царстве некотором государстве раз ...</td>\n",
       "      <td>good</td>\n",
       "    </tr>\n",
       "    <tr>\n",
       "      <th>693</th>\n",
       "      <td>Миллионер из трущоб (2008)</td>\n",
       "      <td>'Миллионер из трущоб' - история о парне, родив...</td>\n",
       "      <td>good</td>\n",
       "    </tr>\n",
       "    <tr>\n",
       "      <th>570</th>\n",
       "      <td>Миллионер из трущоб (2008)</td>\n",
       "      <td>Удивительный фильм. Похоже его успех такой же ...</td>\n",
       "      <td>good</td>\n",
       "    </tr>\n",
       "    <tr>\n",
       "      <th>1344</th>\n",
       "      <td>Оно (2017)</td>\n",
       "      <td>Действие фильма уж очень рваное. Видимо, было ...</td>\n",
       "      <td>bad</td>\n",
       "    </tr>\n",
       "    <tr>\n",
       "      <th>1164</th>\n",
       "      <td>Оно (2017)</td>\n",
       "      <td>Ну вот и свершилось долгожданное событие. На с...</td>\n",
       "      <td>good</td>\n",
       "    </tr>\n",
       "    <tr>\n",
       "      <th>1334</th>\n",
       "      <td>Оно (2017)</td>\n",
       "      <td>Помятуя о том, как здорово ' Пеннивайз - танцу...</td>\n",
       "      <td>good</td>\n",
       "    </tr>\n",
       "    <tr>\n",
       "      <th>415</th>\n",
       "      <td>Ёлки (2010)</td>\n",
       "      <td>Фильм мне очень понравился. Веселый и смешной....</td>\n",
       "      <td>good</td>\n",
       "    </tr>\n",
       "    <tr>\n",
       "      <th>1201</th>\n",
       "      <td>Оно (2017)</td>\n",
       "      <td>Вот и мы посмотрели перезапуск «Оно». Это тот ...</td>\n",
       "      <td>good</td>\n",
       "    </tr>\n",
       "    <tr>\n",
       "      <th>748</th>\n",
       "      <td>Миллионер из трущоб (2008)</td>\n",
       "      <td>Я решила посмотреть 'Миллионера из трущоб' чис...</td>\n",
       "      <td>bad</td>\n",
       "    </tr>\n",
       "    <tr>\n",
       "      <th>641</th>\n",
       "      <td>Миллионер из трущоб (2008)</td>\n",
       "      <td>Как-то глупо, прожив не так уж много, но всё ж...</td>\n",
       "      <td>good</td>\n",
       "    </tr>\n",
       "    <tr>\n",
       "      <th>1315</th>\n",
       "      <td>Оно (2017)</td>\n",
       "      <td>Сразу скажу, что фильм не пугает, несмотря на ...</td>\n",
       "      <td>good</td>\n",
       "    </tr>\n",
       "    <tr>\n",
       "      <th>230</th>\n",
       "      <td>Ла-Ла Ленд (2016)</td>\n",
       "      <td>А вы сможете хотя бы приблизительно вспомнить ...</td>\n",
       "      <td>bad</td>\n",
       "    </tr>\n",
       "  </tbody>\n",
       "</table>\n",
       "</div>"
      ],
      "text/plain": [
       "                           title  \\\n",
       "809    Бесславные ублюдки (2009)   \n",
       "495                  Ёлки (2010)   \n",
       "486                  Ёлки (2010)   \n",
       "175            Ла-Ла Ленд (2016)   \n",
       "288                  Ёлки (2010)   \n",
       "746   Миллионер из трущоб (2008)   \n",
       "879    Бесславные ублюдки (2009)   \n",
       "280                  Ёлки (2010)   \n",
       "1267                  Оно (2017)   \n",
       "693   Миллионер из трущоб (2008)   \n",
       "570   Миллионер из трущоб (2008)   \n",
       "1344                  Оно (2017)   \n",
       "1164                  Оно (2017)   \n",
       "1334                  Оно (2017)   \n",
       "415                  Ёлки (2010)   \n",
       "1201                  Оно (2017)   \n",
       "748   Миллионер из трущоб (2008)   \n",
       "641   Миллионер из трущоб (2008)   \n",
       "1315                  Оно (2017)   \n",
       "230            Ла-Ла Ленд (2016)   \n",
       "\n",
       "                                                 review status  \n",
       "809   Несмотря на то, что фильм Тарантино я посмотре...   good  \n",
       "495   Количество восторженных откликов сразу дало по...    bad  \n",
       "486   Попытались снять очередную новогоднюю сказку, ...    bad  \n",
       "175   Прежде всего, Золотой глобус, который получил ...   good  \n",
       "288   Каждому хочется поверить в чудеса, в какую-то ...   good  \n",
       "746   Любителям захватывающих фильмов и остросюжетны...    bad  \n",
       "879   « - Мсье Лападит, а каким прозвищем одарили ме...   good  \n",
       "280   В том смысле, что хоть не Ж. Фриске, и то хлеб...   good  \n",
       "1267  В некотором царстве некотором государстве раз ...   good  \n",
       "693   'Миллионер из трущоб' - история о парне, родив...   good  \n",
       "570   Удивительный фильм. Похоже его успех такой же ...   good  \n",
       "1344  Действие фильма уж очень рваное. Видимо, было ...    bad  \n",
       "1164  Ну вот и свершилось долгожданное событие. На с...   good  \n",
       "1334  Помятуя о том, как здорово ' Пеннивайз - танцу...   good  \n",
       "415   Фильм мне очень понравился. Веселый и смешной....   good  \n",
       "1201  Вот и мы посмотрели перезапуск «Оно». Это тот ...   good  \n",
       "748   Я решила посмотреть 'Миллионера из трущоб' чис...    bad  \n",
       "641   Как-то глупо, прожив не так уж много, но всё ж...   good  \n",
       "1315  Сразу скажу, что фильм не пугает, несмотря на ...   good  \n",
       "230   А вы сможете хотя бы приблизительно вспомнить ...    bad  "
      ]
     },
     "execution_count": 15,
     "metadata": {},
     "output_type": "execute_result"
    }
   ],
   "source": [
    "df = pd.read_csv(\"reviews.csv\", names = ['title', 'review', 'status'], skiprows=1)\n",
    "print(df.shape)\n",
    "df.sample(20)"
   ]
  },
  {
   "cell_type": "markdown",
   "metadata": {},
   "source": [
    "Примерно 30% наших отзывов - отрицательные"
   ]
  },
  {
   "cell_type": "code",
   "execution_count": 16,
   "metadata": {},
   "outputs": [
    {
     "data": {
      "text/plain": [
       "0.3091684434968017"
      ]
     },
     "execution_count": 16,
     "metadata": {},
     "output_type": "execute_result"
    }
   ],
   "source": [
    "df[df[\"status\"] == \"bad\"].shape[0] / df.shape[0]"
   ]
  },
  {
   "cell_type": "markdown",
   "metadata": {},
   "source": [
    "## Часть 2. Обучение модели"
   ]
  },
  {
   "cell_type": "markdown",
   "metadata": {},
   "source": [
    "Для создания модели будем использовать библиотеку `PyTorch`"
   ]
  },
  {
   "cell_type": "code",
   "execution_count": 17,
   "metadata": {},
   "outputs": [],
   "source": [
    "import torch\n",
    "from nltk.corpus import stopwords \n",
    "from sklearn.feature_extraction.text import TfidfVectorizer"
   ]
  },
  {
   "cell_type": "code",
   "execution_count": 19,
   "metadata": {},
   "outputs": [],
   "source": [
    "max_features = 2000"
   ]
  },
  {
   "cell_type": "code",
   "execution_count": 20,
   "metadata": {},
   "outputs": [
    {
     "data": {
      "text/plain": [
       "matrix([[0.07786456, 0.        , 0.01925117, ..., 0.        , 0.01449525,\n",
       "         0.0137953 ],\n",
       "        [0.00603736, 0.        , 0.01044871, ..., 0.        , 0.0078674 ,\n",
       "         0.        ],\n",
       "        [0.05211138, 0.0122082 , 0.02254695, ..., 0.        , 0.00848841,\n",
       "         0.00807852],\n",
       "        ...,\n",
       "        [0.04830441, 0.        , 0.03715519, ..., 0.        , 0.        ,\n",
       "         0.01331263],\n",
       "        [0.04899287, 0.0091821 , 0.02543721, ..., 0.02768322, 0.        ,\n",
       "         0.02430426],\n",
       "        [0.0354914 , 0.01662923, 0.        , ..., 0.        , 0.02312475,\n",
       "         0.        ]])"
      ]
     },
     "execution_count": 20,
     "metadata": {},
     "output_type": "execute_result"
    }
   ],
   "source": [
    "#transformer = TfidfVectorizer(stop_words=stopwords_list, max_features=max_features)\n",
    "transformer = TfidfVectorizer(max_features=max_features, analyzer=\"char\", ngram_range=(3, 5))\n",
    "data_vectorized = transformer.fit_transform(df.loc[:, \"review\"]).todense()\n",
    "data_vectorized"
   ]
  },
  {
   "cell_type": "code",
   "execution_count": 21,
   "metadata": {},
   "outputs": [
    {
     "data": {
      "text/plain": [
       "tensor([[0.0779, 0.0000, 0.0193,  ..., 0.0000, 0.0145, 0.0138],\n",
       "        [0.0060, 0.0000, 0.0104,  ..., 0.0000, 0.0079, 0.0000],\n",
       "        [0.0521, 0.0122, 0.0225,  ..., 0.0000, 0.0085, 0.0081],\n",
       "        ...,\n",
       "        [0.0483, 0.0000, 0.0372,  ..., 0.0000, 0.0000, 0.0133],\n",
       "        [0.0490, 0.0092, 0.0254,  ..., 0.0277, 0.0000, 0.0243],\n",
       "        [0.0355, 0.0166, 0.0000,  ..., 0.0000, 0.0231, 0.0000]])"
      ]
     },
     "execution_count": 21,
     "metadata": {},
     "output_type": "execute_result"
    }
   ],
   "source": [
    "data_torch = torch.Tensor(data_vectorized)\n",
    "data_torch"
   ]
  },
  {
   "cell_type": "markdown",
   "metadata": {},
   "source": [
    "Таким образом, с помощью `TfidfVectorizer` мы представили каждый текст в виде вектора размера 2000, содержащий 2000 наибольших tf-idf для последовательностей символов от 3 до 5."
   ]
  },
  {
   "cell_type": "markdown",
   "metadata": {},
   "source": [
    "Создадим и обучим модель"
   ]
  },
  {
   "cell_type": "code",
   "execution_count": 22,
   "metadata": {},
   "outputs": [
    {
     "data": {
      "text/plain": [
       "device(type='cuda')"
      ]
     },
     "execution_count": 22,
     "metadata": {},
     "output_type": "execute_result"
    }
   ],
   "source": [
    "import torch\n",
    "\n",
    "device = torch.device(\"cuda\" if torch.cuda.is_available() else \"cpu\")\n",
    "device"
   ]
  },
  {
   "cell_type": "code",
   "execution_count": 23,
   "metadata": {},
   "outputs": [
    {
     "data": {
      "text/plain": [
       "(tensor([0.0779, 0.0000, 0.0193,  ..., 0.0000, 0.0145, 0.0138]), 1)"
      ]
     },
     "execution_count": 23,
     "metadata": {},
     "output_type": "execute_result"
    }
   ],
   "source": [
    "from torch.utils.data import DataLoader\n",
    "\n",
    "dataset_torch = list(zip(data_torch, (df.loc[:, \"status\"].to_numpy() == \"good\").astype(\"int\")))\n",
    "dataset_torch[0]"
   ]
  },
  {
   "cell_type": "code",
   "execution_count": 24,
   "metadata": {},
   "outputs": [
    {
     "name": "stdout",
     "output_type": "stream",
     "text": [
      "----------------------------------------------------------------\n",
      "        Layer (type)               Output Shape         Param #\n",
      "================================================================\n",
      "            Linear-1               [-1, 1, 256]         512,256\n",
      "              ReLU-2               [-1, 1, 256]               0\n",
      "            Linear-3                [-1, 1, 64]          16,448\n",
      "              ReLU-4                [-1, 1, 64]               0\n",
      "            Linear-5                [-1, 1, 16]           1,040\n",
      "              ReLU-6                [-1, 1, 16]               0\n",
      "            Linear-7                 [-1, 1, 1]              17\n",
      "           Sigmoid-8                 [-1, 1, 1]               0\n",
      "================================================================\n",
      "Total params: 529,761\n",
      "Trainable params: 529,761\n",
      "Non-trainable params: 0\n",
      "----------------------------------------------------------------\n",
      "Input size (MB): 0.01\n",
      "Forward/backward pass size (MB): 0.01\n",
      "Params size (MB): 2.02\n",
      "Estimated Total Size (MB): 2.03\n",
      "----------------------------------------------------------------\n"
     ]
    }
   ],
   "source": [
    "from torch import nn\n",
    "from torchsummary import summary\n",
    "\n",
    "'''\n",
    "model = nn.Sequential(\n",
    "\n",
    "    nn.Conv1d(in_channels=1, out_channels=4, kernel_size=101), #out size = (4, 900)\n",
    "    nn.ReLU(),\n",
    "    nn.MaxPool1d(2), #out size = (4, 450)\n",
    "    nn.Conv1d(in_channels=4, out_channels=16, kernel_size=11), #out size = (16, 440)\n",
    "    nn.ReLU(),\n",
    "    nn.MaxPool1d(2), #out size = (16, 220)\n",
    "    nn.Flatten(-2),\n",
    "    nn.Linear(16 * ((max_features-100)//2-10)//2, 64),\n",
    "    nn.ReLU(),\n",
    "    nn.Linear(64, 16),\n",
    "    nn.ReLU(),\n",
    "    nn.Linear(16, 2),\n",
    "    nn.Softmax(dim=1)\n",
    "\n",
    ").to(device)\n",
    "'''\n",
    "model = nn.Sequential(\n",
    "\n",
    "    nn.Linear(max_features, 256),\n",
    "    nn.ReLU(),\n",
    "    nn.Linear(256, 64),\n",
    "    nn.ReLU(),\n",
    "    nn.Linear(64, 16),\n",
    "    nn.ReLU(),\n",
    "    nn.Linear(16, 1),\n",
    "    nn.Sigmoid()\n",
    "\n",
    ").to(device)\n",
    "\n",
    "summary(model, (1, max_features))"
   ]
  },
  {
   "cell_type": "code",
   "execution_count": 25,
   "metadata": {},
   "outputs": [],
   "source": [
    "from torch import optim\n",
    "\n",
    "optimizer = optim.SGD(model.parameters(), lr=1e-1)\n",
    "loss_function = nn.BCELoss()\n",
    "\n",
    "def run(model, dataloader, loss_function, optimizer=None):\n",
    "    # set the model to evaluation or training mode\n",
    "    if optimizer == None:\n",
    "        model.eval()\n",
    "    else:\n",
    "        model.train()\n",
    "\n",
    "    total_loss = 0\n",
    "\n",
    "    for X, y in dataloader:\n",
    "        # compute prediction\n",
    "        pred = model(X[:, None, :].to(device))\n",
    "        # compute loss\n",
    "        y = y.to(torch.float32).to(device)\n",
    "        loss = loss_function(pred[:, 0, 0], y)\n",
    "        # save loss\n",
    "        total_loss += loss.item()\n",
    "        if optimizer != None:\n",
    "            # compute gradients\n",
    "            loss.backward()\n",
    "            # do optimizer step\n",
    "            optimizer.step()\n",
    "            # clear gradients\n",
    "            optimizer.zero_grad()\n",
    "\n",
    "    return total_loss / len(dataloader)"
   ]
  },
  {
   "cell_type": "code",
   "execution_count": 26,
   "metadata": {},
   "outputs": [],
   "source": [
    "from IPython.display import clear_output\n",
    "from matplotlib import pyplot as plt\n",
    "\n",
    "def show_losses(train_loss_hist, test_loss_hist):\n",
    "    clear_output()\n",
    "\n",
    "    plt.figure(figsize=(12,4))\n",
    "\n",
    "    plt.subplot(1, 2, 1)\n",
    "    plt.title('Train Loss')\n",
    "    plt.plot(np.arange(len(train_loss_hist)), train_loss_hist)\n",
    "    plt.yscale('log')\n",
    "    plt.grid()\n",
    "\n",
    "    plt.subplot(1, 2, 2)\n",
    "    plt.title('Valid Loss')\n",
    "    plt.plot(np.arange(len(test_loss_hist)), test_loss_hist)\n",
    "    plt.yscale('log')\n",
    "    plt.grid()\n",
    "\n",
    "    plt.show()"
   ]
  },
  {
   "cell_type": "code",
   "execution_count": 27,
   "metadata": {},
   "outputs": [
    {
     "data": {
      "image/png": "[encoded data removed]",
      "text/plain": [
       "<Figure size 1200x400 with 2 Axes>"
      ]
     },
     "metadata": {},
     "output_type": "display_data"
    }
   ],
   "source": [
    "from torch.utils.data import random_split\n",
    "\n",
    "BATCH_SIZE = 100\n",
    "NUM_EPOCHS = 1000\n",
    "\n",
    "train, valid, test = random_split(dataset_torch, [0.6, 0.2, 0.2])\n",
    "train_loader = DataLoader(train, batch_size=BATCH_SIZE)\n",
    "valid_loader = DataLoader(valid, batch_size=BATCH_SIZE)\n",
    "test_loader = DataLoader(valid, batch_size=BATCH_SIZE)\n",
    "\n",
    "train_loss_hist = []\n",
    "valid_loss_hist = []\n",
    "\n",
    "for i in range(NUM_EPOCHS):\n",
    "    train_loss = run(model, train_loader, loss_function, optimizer)\n",
    "    train_loss_hist.append(train_loss)\n",
    "    valid_loss = run(model, valid_loader, loss_function)\n",
    "    valid_loss_hist.append(valid_loss)\n",
    "\n",
    "    if i % 100 == 99:\n",
    "        show_losses(train_loss_hist, valid_loss_hist)\n"
   ]
  },
  {
   "cell_type": "markdown",
   "metadata": {},
   "source": [
    "Нейронную сеть обучить адекватно не получилось. Тогда будем использовать обычный градиентный бустинг."
   ]
  },
  {
   "cell_type": "code",
   "execution_count": 28,
   "metadata": {},
   "outputs": [
    {
     "data": {
      "text/plain": [
       "matrix([[0.        , 0.05911139, 0.01456081, ..., 0.        , 0.01490358,\n",
       "         0.        ],\n",
       "        [0.        , 0.00490743, 0.        , ..., 0.0083614 , 0.        ,\n",
       "         0.        ],\n",
       "        [0.01046522, 0.04418843, 0.02857276, ..., 0.00941116, 0.02924538,\n",
       "         0.01053865],\n",
       "        ...,\n",
       "        [0.        , 0.040522  , 0.00776356, ..., 0.00767137, 0.        ,\n",
       "         0.00859043],\n",
       "        [0.        , 0.04119915, 0.        , ..., 0.        , 0.        ,\n",
       "         0.        ],\n",
       "        [0.02575233, 0.02718421, 0.04687369, ..., 0.        , 0.        ,\n",
       "         0.        ]])"
      ]
     },
     "execution_count": 28,
     "metadata": {},
     "output_type": "execute_result"
    }
   ],
   "source": [
    "max_features = 5000\n",
    "transformer = TfidfVectorizer(max_features=max_features, analyzer=\"char\", ngram_range=(3, 5))\n",
    "data_vectorized = transformer.fit_transform(df.loc[:, \"review\"]).todense()\n",
    "data_vectorized"
   ]
  },
  {
   "cell_type": "code",
   "execution_count": 159,
   "metadata": {},
   "outputs": [
    {
     "name": "stdout",
     "output_type": "stream",
     "text": [
      "0.9146666666666666 0.851063829787234\n"
     ]
    }
   ],
   "source": [
    "from sklearn.ensemble import GradientBoostingClassifier\n",
    "from sklearn.model_selection import train_test_split\n",
    "from sklearn.metrics import accuracy_score\n",
    "\n",
    "gb = GradientBoostingClassifier(n_estimators=50, max_depth=2)\n",
    "\n",
    "X_train, X_test, y_train, y_test = train_test_split(data_vectorized, (df.loc[:, \"status\"].to_numpy() == \"good\").astype(\"int\"), test_size=0.2, random_state=420)\n",
    "\n",
    "gb.fit(np.asarray(X_train), y_train)\n",
    "y_pred = gb.predict(np.asarray(X_test))\n",
    "y_train_pred = gb.predict(np.asarray(X_train))\n",
    "\n",
    "print(accuracy_score(y_train_pred, y_train), accuracy_score(y_test, y_pred))"
   ]
  },
  {
   "cell_type": "markdown",
   "metadata": {},
   "source": [
    "Модель выигрывает безхдумный классификатор, который видит все отзывы как положительные, который бы имел `accuracy` 70%. "
   ]
  },
  {
   "cell_type": "code",
   "execution_count": 160,
   "metadata": {},
   "outputs": [
    {
     "data": {
      "text/plain": [
       "<matplotlib.image.AxesImage at 0x21800e1c810>"
      ]
     },
     "execution_count": 160,
     "metadata": {},
     "output_type": "execute_result"
    },
    {
     "data": {
      "image/png": "[encoded data removed]",
      "text/plain": [
       "<Figure size 640x480 with 1 Axes>"
      ]
     },
     "metadata": {},
     "output_type": "display_data"
    }
   ],
   "source": [
    "from sklearn.metrics import confusion_matrix\n",
    "\n",
    "cnf_matrix = confusion_matrix(y_test,y_pred)\n",
    "group_names = ['TN','FP','FN','TP']\n",
    "group_counts = [\"{0:0.0f}\".format(value) for value in cnf_matrix.flatten()]\n",
    "labels = [f\"{v1}\\n{v2}\" for v1, v2 in zip(group_names,group_counts)]\n",
    "labels = np.asarray(labels).reshape(2,2)\n",
    "plt.imshow(cnf_matrix, cmap='Blues')"
   ]
  },
  {
   "cell_type": "markdown",
   "metadata": {},
   "source": [
    "Видим, что с положительными отзывами модель справляется хорошо, а в отрицательных ошибается примерно в 50% случаев."
   ]
  },
  {
   "cell_type": "markdown",
   "metadata": {},
   "source": [
    "## Часть 3. Метрики"
   ]
  },
  {
   "cell_type": "code",
   "execution_count": 161,
   "metadata": {},
   "outputs": [
    {
     "name": "stdout",
     "output_type": "stream",
     "text": [
      "[[1.         0.62216611]\n",
      " [0.62216611 1.        ]]\n"
     ]
    },
    {
     "data": {
      "text/plain": [
       "(array([  1.,   0.,   1.,   1.,   1.,   8.,  67., 104., 158., 352.]),\n",
       " array([ 2. ,  2.8,  3.6,  4.4,  5.2,  6. ,  6.8,  7.6,  8.4,  9.2, 10. ]),\n",
       " <BarContainer object of 10 artists>)"
      ]
     },
     "execution_count": 161,
     "metadata": {},
     "output_type": "execute_result"
    },
    {
     "data": {
      "image/png": "[encoded data removed]",
      "text/plain": [
       "<Figure size 2000x800 with 2 Axes>"
      ]
     },
     "metadata": {},
     "output_type": "display_data"
    }
   ],
   "source": [
    "import re\n",
    "from statistics import mean\n",
    "\n",
    "ratings = []\n",
    "statuses = []\n",
    "\n",
    "for i, text in enumerate(df.loc[:, \"review\"]):\n",
    "    matches = re.findall(r\"\\b([0-9]|10|[0-9].[0-9]) из 10\\b\", text)\n",
    "    if matches:\n",
    "        matches = list(map(lambda x: re.sub(\",\", \".\", x), matches))\n",
    "        avg_rating = mean(list(map(float, matches)))\n",
    "        ratings.append(avg_rating)\n",
    "        statuses.append(int(df.loc[i, \"status\"] == \"good\"))\n",
    "\n",
    "ratings = np.array(ratings)\n",
    "statuses = np.array(statuses)\n",
    "print(np.corrcoef(ratings, statuses))\n",
    "fig, axs = plt.subplots(1, 2, figsize=(20, 8))\n",
    "axs[0].hist(ratings[statuses == 0])\n",
    "axs[1].hist(ratings[(statuses == 1) & (ratings <= 10)])"
   ]
  },
  {
   "cell_type": "markdown",
   "metadata": {},
   "source": [
    "Видим, что оценки на плохих отзывах распределены около 4, тогда как оценки на положительных отзывах смещены к 10."
   ]
  },
  {
   "cell_type": "code",
   "execution_count": 198,
   "metadata": {},
   "outputs": [
    {
     "name": "stdout",
     "output_type": "stream",
     "text": [
      "Ла-Ла Ленд (2016): 0.9\n",
      "Ёлки (2010): 0.9523809523809523\n",
      "Миллионер из трущоб (2008): 0.9038461538461539\n",
      "Бесславные ублюдки (2009): 0.9324324324324325\n",
      "Оно (2017): 0.9\n",
      "Total: 0.917910447761194\n"
     ]
    }
   ],
   "source": [
    "X_test_all = []\n",
    "y_true_all = []\n",
    "for title in pd.unique(df.loc[:, \"title\"]):\n",
    "    X_test_title = []\n",
    "    y_true_title = []\n",
    "    for i, _ in enumerate(df[df.loc[:, \"title\"] == title].loc[:, \"title\"]):\n",
    "        if any((np.array(data_vectorized[i]).flatten() == x).all() for x in X_test):\n",
    "            X_test_title.append(data_vectorized[i])\n",
    "            y_true_title.append((df.loc[:, \"status\"].to_numpy() == \"good\").astype(\"int\")[i])\n",
    "            X_test_all.append(data_vectorized[i])\n",
    "            y_true_all.append((df.loc[:, \"status\"].to_numpy() == \"good\").astype(\"int\")[i])\n",
    "    X_test_title = np.squeeze(np.array(X_test_title))\n",
    "    y_pred = gb.predict(X_test_title)\n",
    "    print(f\"{title}: {accuracy_score(y_true_title, y_pred)}\")\n",
    "\n",
    "X_test_all = np.squeeze(np.array(X_test_all))\n",
    "y_pred = gb.predict(X_test_all)\n",
    "print(f\"Total: {accuracy_score(y_true_all, y_pred)}\")"
   ]
  },
  {
   "cell_type": "code",
   "execution_count": null,
   "metadata": {},
   "outputs": [],
   "source": []
  }
 ],
 "metadata": {
  "kernelspec": {
   "display_name": "Python 3",
   "language": "python",
   "name": "python3"
  },
  "language_info": {
   "codemirror_mode": {
    "name": "ipython",
    "version": 3
   },
   "file_extension": ".py",
   "mimetype": "text/x-python",
   "name": "python",
   "nbconvert_exporter": "python",
   "pygments_lexer": "ipython3",
   "version": "3.11.7"
  }
 },
 "nbformat": 4,
 "nbformat_minor": 2
}
