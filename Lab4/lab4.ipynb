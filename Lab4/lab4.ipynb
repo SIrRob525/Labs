{
 "cells": [
  {
   "cell_type": "markdown",
   "metadata": {},
   "source": [
    "# Лабораторная работа 4"
   ]
  },
  {
   "cell_type": "markdown",
   "metadata": {},
   "source": [
    "#### Оценка тональности рецензий"
   ]
  },
  {
   "cell_type": "markdown",
   "metadata": {},
   "source": [
    "## Часть 1. Скраппинг данных"
   ]
  },
  {
   "cell_type": "markdown",
   "metadata": {},
   "source": [
    "Будем доставать отзывы с Кинопоиска. Для анализа были выбраны фильмы, у которых достаточно и хороших, и плохих отзывов: \"Ла-ла-ленд\" (2016), \"Елки\" (2010), \"Барби\" (2023), \"Бесславные ублюдки\" (2009) и \"Оно\" (2017). Запиешм их ID в список"
   ]
  },
  {
   "cell_type": "code",
   "execution_count": 1,
   "metadata": {},
   "outputs": [],
   "source": [
    "ids = [841081, 493768, 478052, 9691, 453397]"
   ]
  },
  {
   "cell_type": "markdown",
   "metadata": {},
   "source": [
    "Для парсинга будем использовать библиотеку BeautifulSoup4"
   ]
  },
  {
   "cell_type": "code",
   "execution_count": 2,
   "metadata": {},
   "outputs": [],
   "source": [
    "import requests\n",
    "from bs4 import BeautifulSoup"
   ]
  },
  {
   "cell_type": "markdown",
   "metadata": {},
   "source": [
    "Напишем функцию для записи данных в файл."
   ]
  },
  {
   "cell_type": "code",
   "execution_count": 22,
   "metadata": {},
   "outputs": [],
   "source": [
    "import numpy as np\n",
    "import pandas as pd\n",
    "from tqdm import tqdm\n",
    "from time import sleep\n",
    "import re\n",
    "import os"
   ]
  },
  {
   "cell_type": "code",
   "execution_count": 70,
   "metadata": {},
   "outputs": [],
   "source": [
    "def load_user_info(movie_ids: list[int], filename: str):\n",
    "    #checking if files do not exist or are empty \n",
    "    does_exist = (os.path.isfile(filename)) and (not os.stat(filename).st_size == 0)\n",
    "    if does_exist:\n",
    "        print(f\"File {filename} already exists.\")\n",
    "        return\n",
    "\n",
    "    #creating the list of rows for our future dataframe\n",
    "    rows = []\n",
    "    \n",
    "    for id in tqdm(movie_ids):\n",
    "        for target in ['good', 'bad']:\n",
    "            header = {\n",
    "                \"user-agent\": \"Mozilla/5.0 (Windows NT 10.0; Win64; x64) AppleWebKit/537.36 (KHTML, like Gecko) Chrome/74.0.3729.169 Safari/537.36\" ,\n",
    "                'referer':'https://www.google.com/'\n",
    "            }\n",
    "            data = requests.get(f\"https://www.kinopoisk.ru/film/{id}/reviews/ord/login/status/{target}/perpage/200/\", headers=header)\n",
    "            soup = BeautifulSoup(data.text)\n",
    "            title_tag = soup.findAll(\"title\")[0].text\n",
    "            title = re.sub(\" — отзывы и рецензии — Кинопоиск\", \"\", title_tag)\n",
    "\n",
    "            for tag in soup.findAll(\"span\", {\"itemprop\" : \"reviewBody\"}):\n",
    "                review = tag.text\n",
    "                rows.append((title, review, target))\n",
    "\n",
    "            sleep(2)\n",
    "        \n",
    "    #creating the dataframe and dumping it to a file\n",
    "    df = pd.DataFrame.from_dict(rows, orient='columns')\n",
    "    df.to_csv(filename, index=False)\n",
    "\n",
    "    return"
   ]
  },
  {
   "cell_type": "code",
   "execution_count": 71,
   "metadata": {},
   "outputs": [
    {
     "name": "stderr",
     "output_type": "stream",
     "text": [
      "100%|██████████| 5/5 [00:32<00:00,  6.52s/it]"
     ]
    },
    {
     "name": "stdout",
     "output_type": "stream",
     "text": [
      "910\n"
     ]
    },
    {
     "name": "stderr",
     "output_type": "stream",
     "text": [
      "\n"
     ]
    }
   ],
   "source": [
    "load_user_info(ids, \"reviews.csv\")"
   ]
  },
  {
   "cell_type": "markdown",
   "metadata": {},
   "source": [
    "Выгрузим данные обратно в датфрейм"
   ]
  },
  {
   "cell_type": "code",
   "execution_count": 76,
   "metadata": {},
   "outputs": [
    {
     "data": {
      "text/html": [
       "<div>\n",
       "<style scoped>\n",
       "    .dataframe tbody tr th:only-of-type {\n",
       "        vertical-align: middle;\n",
       "    }\n",
       "\n",
       "    .dataframe tbody tr th {\n",
       "        vertical-align: top;\n",
       "    }\n",
       "\n",
       "    .dataframe thead th {\n",
       "        text-align: right;\n",
       "    }\n",
       "</style>\n",
       "<table border=\"1\" class=\"dataframe\">\n",
       "  <thead>\n",
       "    <tr style=\"text-align: right;\">\n",
       "      <th></th>\n",
       "      <th>title</th>\n",
       "      <th>review</th>\n",
       "      <th>status</th>\n",
       "    </tr>\n",
       "  </thead>\n",
       "  <tbody>\n",
       "    <tr>\n",
       "      <th>189</th>\n",
       "      <td>Ла-Ла Ленд (2016)</td>\n",
       "      <td>Художники, поэты, артисты часто кажутся глупца...</td>\n",
       "      <td>good</td>\n",
       "    </tr>\n",
       "    <tr>\n",
       "      <th>834</th>\n",
       "      <td>Оно (2017)</td>\n",
       "      <td>Роман Стивена Кинга “Оно” акцентировал внимани...</td>\n",
       "      <td>good</td>\n",
       "    </tr>\n",
       "    <tr>\n",
       "      <th>599</th>\n",
       "      <td>Бесславные ублюдки (2009)</td>\n",
       "      <td>Совершенно плоский и неинтересный фильм, лживы...</td>\n",
       "      <td>bad</td>\n",
       "    </tr>\n",
       "    <tr>\n",
       "      <th>600</th>\n",
       "      <td>Бесславные ублюдки (2009)</td>\n",
       "      <td>Для меня существует два Тарантино. Один - это ...</td>\n",
       "      <td>bad</td>\n",
       "    </tr>\n",
       "    <tr>\n",
       "      <th>235</th>\n",
       "      <td>Ла-Ла Ленд (2016)</td>\n",
       "      <td>Ох, граждане…. У меня дичайшее deja vu, отсыла...</td>\n",
       "      <td>bad</td>\n",
       "    </tr>\n",
       "    <tr>\n",
       "      <th>275</th>\n",
       "      <td>Ёлки (2010)</td>\n",
       "      <td>Пошел в кинотеатр с девушкой. Несмотря на то, ...</td>\n",
       "      <td>good</td>\n",
       "    </tr>\n",
       "    <tr>\n",
       "      <th>416</th>\n",
       "      <td>Ёлки (2010)</td>\n",
       "      <td>Тем, у кого одно только упоминание фамилии Бек...</td>\n",
       "      <td>good</td>\n",
       "    </tr>\n",
       "    <tr>\n",
       "      <th>398</th>\n",
       "      <td>Ёлки (2010)</td>\n",
       "      <td>Изобилие русских знаменитостей в списке актёро...</td>\n",
       "      <td>good</td>\n",
       "    </tr>\n",
       "    <tr>\n",
       "      <th>681</th>\n",
       "      <td>Бесславные ублюдки (2009)</td>\n",
       "      <td>Об американском тщеславии мы все слышали не од...</td>\n",
       "      <td>bad</td>\n",
       "    </tr>\n",
       "    <tr>\n",
       "      <th>642</th>\n",
       "      <td>Бесславные ублюдки (2009)</td>\n",
       "      <td>Честно говоря, ждал этот фильм. Такого разочар...</td>\n",
       "      <td>bad</td>\n",
       "    </tr>\n",
       "    <tr>\n",
       "      <th>358</th>\n",
       "      <td>Ёлки (2010)</td>\n",
       "      <td>Сегодня, во времена упадка российского кинемат...</td>\n",
       "      <td>good</td>\n",
       "    </tr>\n",
       "    <tr>\n",
       "      <th>550</th>\n",
       "      <td>Барби (2023)</td>\n",
       "      <td>Жизнь течет своим чередом. Возникают новые иде...</td>\n",
       "      <td>good</td>\n",
       "    </tr>\n",
       "    <tr>\n",
       "      <th>217</th>\n",
       "      <td>Ла-Ла Ленд (2016)</td>\n",
       "      <td>Знаете, как выставляют оценки в спортивных тан...</td>\n",
       "      <td>bad</td>\n",
       "    </tr>\n",
       "    <tr>\n",
       "      <th>78</th>\n",
       "      <td>Ла-Ла Ленд (2016)</td>\n",
       "      <td>Когда первой мыслью на выходе из кинотеатра ст...</td>\n",
       "      <td>good</td>\n",
       "    </tr>\n",
       "    <tr>\n",
       "      <th>561</th>\n",
       "      <td>Бесславные ублюдки (2009)</td>\n",
       "      <td>В том смысле, что никудышное кино получилось. ...</td>\n",
       "      <td>bad</td>\n",
       "    </tr>\n",
       "    <tr>\n",
       "      <th>491</th>\n",
       "      <td>Ёлки (2010)</td>\n",
       "      <td>Посмотрев на всё это безобразие со стороны, мн...</td>\n",
       "      <td>bad</td>\n",
       "    </tr>\n",
       "    <tr>\n",
       "      <th>880</th>\n",
       "      <td>Оно (2017)</td>\n",
       "      <td>Оно - это то, что вас убивает\\n\\r\\nОно - это т...</td>\n",
       "      <td>good</td>\n",
       "    </tr>\n",
       "    <tr>\n",
       "      <th>461</th>\n",
       "      <td>Ёлки (2010)</td>\n",
       "      <td>Я никак не могу понять, почему фильмы Тимура Б...</td>\n",
       "      <td>bad</td>\n",
       "    </tr>\n",
       "    <tr>\n",
       "      <th>288</th>\n",
       "      <td>Ёлки (2010)</td>\n",
       "      <td>Каждому хочется поверить в чудеса, в какую-то ...</td>\n",
       "      <td>good</td>\n",
       "    </tr>\n",
       "    <tr>\n",
       "      <th>151</th>\n",
       "      <td>Ла-Ла Ленд (2016)</td>\n",
       "      <td>Начну с того, что утверждая, будто 'Ла-ла-Ленд...</td>\n",
       "      <td>good</td>\n",
       "    </tr>\n",
       "  </tbody>\n",
       "</table>\n",
       "</div>"
      ],
      "text/plain": [
       "                         title  \\\n",
       "189          Ла-Ла Ленд (2016)   \n",
       "834                 Оно (2017)   \n",
       "599  Бесславные ублюдки (2009)   \n",
       "600  Бесславные ублюдки (2009)   \n",
       "235          Ла-Ла Ленд (2016)   \n",
       "275                Ёлки (2010)   \n",
       "416                Ёлки (2010)   \n",
       "398                Ёлки (2010)   \n",
       "681  Бесславные ублюдки (2009)   \n",
       "642  Бесславные ублюдки (2009)   \n",
       "358                Ёлки (2010)   \n",
       "550               Барби (2023)   \n",
       "217          Ла-Ла Ленд (2016)   \n",
       "78           Ла-Ла Ленд (2016)   \n",
       "561  Бесславные ублюдки (2009)   \n",
       "491                Ёлки (2010)   \n",
       "880                 Оно (2017)   \n",
       "461                Ёлки (2010)   \n",
       "288                Ёлки (2010)   \n",
       "151          Ла-Ла Ленд (2016)   \n",
       "\n",
       "                                                review status  \n",
       "189  Художники, поэты, артисты часто кажутся глупца...   good  \n",
       "834  Роман Стивена Кинга “Оно” акцентировал внимани...   good  \n",
       "599  Совершенно плоский и неинтересный фильм, лживы...    bad  \n",
       "600  Для меня существует два Тарантино. Один - это ...    bad  \n",
       "235  Ох, граждане…. У меня дичайшее deja vu, отсыла...    bad  \n",
       "275  Пошел в кинотеатр с девушкой. Несмотря на то, ...   good  \n",
       "416  Тем, у кого одно только упоминание фамилии Бек...   good  \n",
       "398  Изобилие русских знаменитостей в списке актёро...   good  \n",
       "681  Об американском тщеславии мы все слышали не од...    bad  \n",
       "642  Честно говоря, ждал этот фильм. Такого разочар...    bad  \n",
       "358  Сегодня, во времена упадка российского кинемат...   good  \n",
       "550  Жизнь течет своим чередом. Возникают новые иде...   good  \n",
       "217  Знаете, как выставляют оценки в спортивных тан...    bad  \n",
       "78   Когда первой мыслью на выходе из кинотеатра ст...   good  \n",
       "561  В том смысле, что никудышное кино получилось. ...    bad  \n",
       "491  Посмотрев на всё это безобразие со стороны, мн...    bad  \n",
       "880  Оно - это то, что вас убивает\\n\\r\\nОно - это т...   good  \n",
       "461  Я никак не могу понять, почему фильмы Тимура Б...    bad  \n",
       "288  Каждому хочется поверить в чудеса, в какую-то ...   good  \n",
       "151  Начну с того, что утверждая, будто 'Ла-ла-Ленд...   good  "
      ]
     },
     "execution_count": 76,
     "metadata": {},
     "output_type": "execute_result"
    }
   ],
   "source": [
    "df = pd.read_csv(\"reviews.csv\", names = ['title', 'review', 'status'], skiprows=1)\n",
    "df.sample(20)"
   ]
  },
  {
   "cell_type": "markdown",
   "metadata": {},
   "source": [
    "## Часть 2. Обучение модели"
   ]
  },
  {
   "cell_type": "markdown",
   "metadata": {},
   "source": []
  }
 ],
 "metadata": {
  "kernelspec": {
   "display_name": "Python 3",
   "language": "python",
   "name": "python3"
  },
  "language_info": {
   "codemirror_mode": {
    "name": "ipython",
    "version": 3
   },
   "file_extension": ".py",
   "mimetype": "text/x-python",
   "name": "python",
   "nbconvert_exporter": "python",
   "pygments_lexer": "ipython3",
   "version": "3.11.7"
  }
 },
 "nbformat": 4,
 "nbformat_minor": 2
}
